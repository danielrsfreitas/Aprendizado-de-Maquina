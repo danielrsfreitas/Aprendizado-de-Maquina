{
 "cells": [
  {
   "cell_type": "markdown",
   "metadata": {},
   "source": [
    "### Motivação\n",
    "O intuito desse Jupyter Notebook é exercitar conceitos de Aprendizado de Máquina ligados essencialmente à Regressão Linear, dentre eles: \n",
    "\n",
    "* Cross Validation\n",
    "* Regressor Linear ótimo em forma fechada\n",
    "* Critério de Root Mean Square Error (RMSE)\n",
    "* K-fold\n",
    "* Regularização Ridge Regression\n",
    "* Seleção de variáveis \n",
    "    * Wrapper com abordager Backward Elimination\n",
    "    * Filtro de Correlação Linear \n",
    "    \n",
    "### Problema\n",
    "O caso de estudo consiste em: **Predição de número de manchas solares em uma série temporal**\n",
    "\n",
    "\n",
    "O Dataset utilizado contém o número de manchas solares observadas em cada mês, desde o ano 1749 até 2014 e foi obtido em https://www.esrl.noaa.gov/psd/gcos_wgsp/Timeseries/Data/sunspot.long.data.\n",
    "\n",
    "\n",
    "\n",
    "#### Manipulação inicial e visualização dos conjunto de dados"
   ]
  },
  {
   "cell_type": "code",
   "execution_count": 1,
   "metadata": {
    "collapsed": true
   },
   "outputs": [],
   "source": [
    "import pandas as pd\n",
    "import math\n",
    "import numpy as np\n",
    "from numpy import linalg\n",
    "import matplotlib.pyplot as plt "
   ]
  },
  {
   "cell_type": "code",
   "execution_count": 2,
   "metadata": {
    "collapsed": true
   },
   "outputs": [],
   "source": [
    "ss = np.loadtxt(\"sunspot.txt\" )"
   ]
  },
  {
   "cell_type": "code",
   "execution_count": 3,
   "metadata": {},
   "outputs": [
    {
     "data": {
      "text/plain": [
       "(266, 13)"
      ]
     },
     "execution_count": 3,
     "metadata": {},
     "output_type": "execute_result"
    }
   ],
   "source": [
    "ss.shape"
   ]
  },
  {
   "cell_type": "markdown",
   "metadata": {},
   "source": [
    "Retirada das colunas dos anos para facilitar a manipulação dos dados."
   ]
  },
  {
   "cell_type": "code",
   "execution_count": 4,
   "metadata": {
    "collapsed": true
   },
   "outputs": [],
   "source": [
    "ss = np.delete(ss, 0, axis=1) # Delete years"
   ]
  },
  {
   "cell_type": "code",
   "execution_count": 5,
   "metadata": {},
   "outputs": [
    {
     "data": {
      "text/plain": [
       "(266, 12)"
      ]
     },
     "execution_count": 5,
     "metadata": {},
     "output_type": "execute_result"
    }
   ],
   "source": [
    "ss.shape"
   ]
  },
  {
   "cell_type": "markdown",
   "metadata": {},
   "source": [
    "Reescrevendo os dados como um array de uma dimensão."
   ]
  },
  {
   "cell_type": "code",
   "execution_count": 6,
   "metadata": {
    "collapsed": true,
    "scrolled": true
   },
   "outputs": [],
   "source": [
    "ss = np.reshape(ss, ss.shape[0] * ss.shape[1])"
   ]
  },
  {
   "cell_type": "code",
   "execution_count": 7,
   "metadata": {},
   "outputs": [
    {
     "data": {
      "image/png": "[encoded data removed]",
      "text/plain": [
       "<matplotlib.figure.Figure at 0x10d3fc160>"
      ]
     },
     "metadata": {},
     "output_type": "display_data"
    }
   ],
   "source": [
    "plt.plot(ss)\n",
    "plt.title(\"Manchas Solares ao longo dos mêses\")\n",
    "plt.show()"
   ]
  },
  {
   "cell_type": "markdown",
   "metadata": {},
   "source": [
    "### Parte A\n",
    "Na parte A, deve-se utilizar K = 20 atrasos anteriores imediatos ao valor a ser previsto da série temporal como entradas (features) do modelo de Regressão Linear sem restrição, ou seja, sem regularização."
   ]
  },
  {
   "cell_type": "code",
   "execution_count": 8,
   "metadata": {
    "collapsed": true
   },
   "outputs": [],
   "source": [
    "\"\"\"\n",
    "args:\n",
    "    arr: linear array of data\n",
    "    K: number of features\n",
    "return:\n",
    "    Phi: Phi matrix for linear regressor calculus\n",
    "\"\"\"\n",
    "\n",
    "def Phi_matrix(arr, K):\n",
    "    Phi = np.array([])\n",
    "    for i in range(len(arr) - K + 1):\n",
    "        Phi = np.append(Phi, 1)\n",
    "        for j in range(K - 2, -1, -1):\n",
    "            Phi = np.append(Phi, arr[i + j])\n",
    "    Phi = Phi.reshape(int(Phi.shape[0] / K), K)\n",
    "    return Phi\n",
    "\n",
    "\"\"\"\n",
    "args:\n",
    "    size: identity matrix size minus 0's row an column\n",
    "return:\n",
    "    idm: identity matrix'\n",
    "\"\"\"\n",
    "\n",
    "def identity_matrix(size):\n",
    "    idm = np.identity(size)\n",
    "    idm = np.insert(idm, 0, 0, axis=1)\n",
    "    idm = np.insert(idm, 0, 0, axis=0)\n",
    "    \n",
    "    return idm\n",
    "\n",
    "\"\"\"\n",
    "args:\n",
    "    cols: number of columns \n",
    "    rows: number of rows\n",
    "    rem_inx: index to be removed\n",
    "return:\n",
    "    a: boolean array with column drop(True) and column keep(False)\n",
    "\"\"\"\n",
    "\n",
    "def col_mask(cols, rem_inx):\n",
    "    a = np.ones((cols), dtype=bool)\n",
    "    for i in range (1, cols):\n",
    "        if(i == rem_inx):\n",
    "            a[i] = 0\n",
    "    return a        \n",
    "    \n",
    "\"\"\"\n",
    "args:\n",
    "    cols: number of columns \n",
    "    rows: number of rows\n",
    "    k: number of folders\n",
    "    k_n: which folder \n",
    "return:\n",
    "    a: boolean array with rows drop(False) and column keep(True)\n",
    "\n",
    "\"\"\"    \n",
    "def rows_mask(rows, cols, k, k_n):\n",
    "\n",
    "    offset = int(rows/k)\n",
    "    a = np.zeros((rows),dtype=bool)\n",
    "    if(k != 1):\n",
    "        for i in range(offset * k_n, offset * k_n + offset):\n",
    "                a[i] = 1\n",
    "    return a\n",
    "\n",
    "\"\"\"\n",
    "args:\n",
    "    Phi: Phi matrix\n",
    "    y: Labels\n",
    "    lambdda: Ridge regression lambda\n",
    "return:\n",
    "    lin_reg: Linear Regression coefficients\n",
    "\"\"\"\n",
    "def pred_ridge(Phi, y, lambdda):\n",
    "    \n",
    "    identity = identity_matrix(Phi.shape[1] - 1)\n",
    "    lin_reg = np.dot(np.dot( linalg.inv(np.dot(Phi.transpose(),Phi) + lambdda*identity), Phi.transpose()), y) \n",
    "    return lin_reg"
   ]
  },
  {
   "cell_type": "markdown",
   "metadata": {},
   "source": [
    "#### Cross Validation\n",
    "Divisão do conjunto de dados entre TREINO e TESTE. O conjunto de teste contém dados de 5 anos de observação. O treino é formado pelo restante dos dados."
   ]
  },
  {
   "cell_type": "code",
   "execution_count": 9,
   "metadata": {
    "collapsed": true
   },
   "outputs": [],
   "source": [
    "TEST_SIZE = 12 * 5 # 12 months for 5 years\n",
    "TRAIN_SIZE = ss.shape[0] - TEST_SIZE\n",
    "K = 21 # num o variables + 1 (bias)\n",
    "\n",
    "ss_train = ss[:TRAIN_SIZE]\n",
    "ss_test = ss[TRAIN_SIZE - K + 1:] # Using training data to predict test data\n",
    "y_train = ss[K-1:TRAIN_SIZE]\n",
    "y_test = ss[TRAIN_SIZE:] # Will we use training data to predict test data ? Data leakage\n",
    "\n",
    "assert y_test.shape[0] == TEST_SIZE, \"Something went wrong with train/test split!\"\n",
    "\n",
    "Phi_tst = Phi_matrix(ss_test, K)\n",
    "Phi = Phi_matrix(ss_train, K)\n",
    "\n",
    "assert y_train.shape[0] == Phi.shape[0], \"Matrix lenght does not match for multiplication!\" "
   ]
  },
  {
   "cell_type": "markdown",
   "metadata": {},
   "source": [
    "#### Obtenção do Preditor Linear Ótimo\n",
    "O preditor linear ótimo irrestrito é obtido através da fórmula fechada:\n",
    "$$ \\bf{W} = (\\phi^{T}\\phi)^{-1}\\phi^{T}Y $$"
   ]
  },
  {
   "cell_type": "code",
   "execution_count": 10,
   "metadata": {},
   "outputs": [
    {
     "data": {
      "text/plain": [
       "(array([[   1. ,  103. ,   85.4, ...,   70. ,   62.6,   58. ],\n",
       "        [   1. ,   91.2,  103. , ...,   55.7,   70. ,   62.6],\n",
       "        [   1. ,   65.7,   91.2, ...,   85. ,   55.7,   70. ],\n",
       "        ..., \n",
       "        [   1. ,    4.3,    0. , ...,    2.9,    9.3,    2.1],\n",
       "        [   1. ,    4.8,    4.3, ...,    3.2,    2.9,    9.3],\n",
       "        [   1. ,    4.1,    4.8, ...,    3.4,    3.2,    2.9]]),\n",
       " array([ 91.2,  65.7,  63.3, ...,   4.8,   4.1,  10.8]))"
      ]
     },
     "execution_count": 10,
     "metadata": {},
     "output_type": "execute_result"
    }
   ],
   "source": [
    "Phi, y_train"
   ]
  },
  {
   "cell_type": "code",
   "execution_count": 11,
   "metadata": {
    "scrolled": false
   },
   "outputs": [
    {
     "data": {
      "text/plain": [
       "array([  3.40753279e+00,   5.42742346e-01,   9.36178958e-02,\n",
       "         1.01431739e-01,   8.66568705e-02,   3.81649881e-02,\n",
       "         6.33077050e-02,   8.09135445e-04,   2.78924119e-02,\n",
       "         9.55003770e-02,   2.07517303e-02,   2.67433309e-02,\n",
       "         5.34725403e-03,  -3.01700873e-02,   2.73501594e-02,\n",
       "         1.32974778e-02,  -4.66236520e-02,  -5.55622599e-04,\n",
       "        -7.26082436e-02,  -7.74804120e-03,  -5.20224438e-02])"
      ]
     },
     "execution_count": 11,
     "metadata": {},
     "output_type": "execute_result"
    }
   ],
   "source": [
    "lin_reg = np.dot(np.dot(linalg.inv(np.dot(Phi.transpose(),Phi)), Phi.transpose() ), y_train) \n",
    "lin_reg"
   ]
  },
  {
   "cell_type": "markdown",
   "metadata": {},
   "source": [
    "#### Verificação do modelo\n",
    "O parâmetro escolhido como métrica de qualidade do modelo é a o Root Mean Squared Error, ou RMSE. Que é dado da seguinte forma:\n",
    "$$ \\sqrt{\\frac{1}{N}\\Sigma(y - y')^{2}}$$"
   ]
  },
  {
   "cell_type": "code",
   "execution_count": 12,
   "metadata": {
    "scrolled": true
   },
   "outputs": [
    {
     "name": "stdout",
     "output_type": "stream",
     "text": [
      "Train RMSE: 15.370232088543426\n",
      "Test RMSE: 14.249451112744604\n"
     ]
    }
   ],
   "source": [
    "rmse = []\n",
    "rmse.append(math.sqrt(np.mean(np.power(np.dot(Phi,lin_reg.T) - y_train, 2))))\n",
    "rmse.append(math.sqrt(np.mean(np.power(np.dot(Phi_tst,lin_reg.T) - y_test, 2))))\n",
    "\n",
    "print(\"Train RMSE: \" + str(rmse[0]) + \"\\nTest RMSE: \" +str(rmse[1])  )"
   ]
  },
  {
   "cell_type": "markdown",
   "metadata": {},
   "source": [
    "#### Comentário\n",
    "O modelo de Regressão Linear irrestrito construído obteve nos dados de treino RMSE = 15.37, enquanto que nos dados de teste obteve RMSE = 14.2494. É curioso obter o erro maior no conjunto utilizado para o treino em relação ao de teste. Como o nosso conjunto de teste é muito pequeno em relação ao conjunto de treino, de alguma forma pode ser que nosso conjunto de teste se encaixe de uma maneira melhor para o preditor linear que foi gerado, ocasionando em menor erro. Dessa forma, sugere-se que seja feita de fato uma seleção mais variada de dados de teste para que haja consistência na validação. A técnica de k-fold seria suficiente para confirmar a hipótese."
   ]
  },
  {
   "cell_type": "markdown",
   "metadata": {},
   "source": [
    "#### Comparação entre dados e predição\n",
    "Abaixo está o gráfico que compara os dados gerados pelo modelo em comparação com os próprios dados do conjunto de teste."
   ]
  },
  {
   "cell_type": "code",
   "execution_count": 13,
   "metadata": {
    "scrolled": false
   },
   "outputs": [
    {
     "data": {
      "image/png": "[encoded data removed]",
      "text/plain": [
       "<matplotlib.figure.Figure at 0x10d43eba8>"
      ]
     },
     "metadata": {},
     "output_type": "display_data"
    }
   ],
   "source": [
    "y_pred = np.dot(Phi_tst,lin_reg.T)\n",
    "plt.figure(figsize=(10,10))\n",
    "plt.plot(y_pred,label='pred')\n",
    "plt.plot(y_test,label='test')\n",
    "plt.legend()\n",
    "plt.title(\"Comparação entre teste e predição\")\n",
    "plt.show()"
   ]
  },
  {
   "cell_type": "markdown",
   "metadata": {},
   "source": [
    "#### Comentário\n",
    "\n",
    "De acordo com o gráfico acima, podemos ver que o modelo de regressão linear utilizado como preditor da série temporal demonstra um comportamento semelhante ao dados de teste utilizados na validação do modelo. No entanto, pode-se notar  um leve atraso na predição. O modelo prevê melhor o valor do mês anterior."
   ]
  },
  {
   "cell_type": "markdown",
   "metadata": {},
   "source": [
    "### Parte B\n",
    "A parte B tem o mesmo objetivo em vista, no entanto dessa vez serão introduzidos novos auxiliadores para a construção do modelo, dentre eles K-fold, Seleção de variáveis, e Regularização. "
   ]
  },
  {
   "cell_type": "markdown",
   "metadata": {},
   "source": [
    "#### Hiperparâmetros "
   ]
  },
  {
   "cell_type": "code",
   "execution_count": 14,
   "metadata": {
    "collapsed": true
   },
   "outputs": [],
   "source": [
    "# Hyperparameters\n",
    "Q_i = 21\n",
    "Q_j = 20 # K + 1. Initial number of variables for Wrapper\n",
    "lambdda = [ 1e-4, 1e-3, 1e-2, 1e-1, 0, 1e2, 1e3, 1e4, 1e5, 1e6, 1e8, 1e9] # Will name it lambdda instead of lambda for obvious reason\n",
    "ss_b = ss\n",
    "k = 13\n",
    "drop = np.ones(20, dtype = bool)\n",
    "# First Phi matrix\n",
    "Phi = Phi_matrix(ss_b, Q_i)\n",
    "y = ss[Q_i - 1:]"
   ]
  },
  {
   "cell_type": "markdown",
   "metadata": {},
   "source": [
    "#### Treinamento do modelo\n",
    "No treinamento do modelo será utilizado o `K-fold`, o qual faz a separação do conjunto de treinamento e teste em pastas. No nosso caso foram escolhidas `13` pastas por ser um número que divide os dados igualmente (sem resto) e facilitará na divisão das pastas.\n",
    "\n",
    "Também é utilizada a técnica de seleção de variáveis denominada Wrapper com a abordagem de Backward Elimination, que consiste em ir, progressivamente, eliminando variáveis com o objetivo de diminur o erro, originando assim, um conjunto de variáveis que contém mais informação útil para previsão.\n",
    "\n",
    "Por fim, também é utilizada a técnica de `regularização` L2, ou Ridge Regression para obter ainda menor erro de predição."
   ]
  },
  {
   "cell_type": "code",
   "execution_count": 15,
   "metadata": {
    "collapsed": true,
    "scrolled": true
   },
   "outputs": [],
   "source": [
    "var_wrap = np.array([])\n",
    "back_e_b = np.array([])\n",
    "drop = []\n",
    "best_lambda = []\n",
    "a = 1\n",
    "last_drop = -1\n",
    "# Wrapper - Iteration of drops \n",
    "for q_i in range(Q_i,2,-1):\n",
    "    back_e_a = np.array([])\n",
    "    i_drop = 0\n",
    "    cont = 1\n",
    "    # Wrapper - Iterations of remaining variables    \n",
    "    for q_j in range(Q_j,0,-1):\n",
    "        \n",
    "        rmse_list = []\n",
    "        lambddas = []\n",
    "        cm = col_mask(Phi.shape[1], cont)\n",
    "        cont += 1\n",
    "        # Regularization - Ridge Regression\n",
    "        for f in range(len(lambdda)):\n",
    "\n",
    "            #Refresh K-Fold parameters\n",
    "            rmse = 0\n",
    "            \n",
    "            # K-fold\n",
    "            for k_i in range(k):    \n",
    "                rm = rows_mask(Phi.shape[0], Phi.shape[1] - 1, k, k_i)\n",
    "\n",
    "                Phi_train = Phi[~rm]\n",
    "                y_train = y[~rm]\n",
    "                Phi_tst = Phi[rm]\n",
    "                y_test = y[rm]\n",
    "                \n",
    "                Phi_train = Phi_train[:,cm]\n",
    "                Phi_tst = Phi_tst[:,cm]\n",
    "\n",
    "                # Obtain Linear Regressor predictor with train data \n",
    "                lin_reg = pred_ridge(Phi_train, y_train, lambdda[f])\n",
    "\n",
    "                # RMSE metric of test set\n",
    "                rmse += math.sqrt(np.mean(np.power(np.dot(Phi_tst, lin_reg.T) - y_test, 2)))\n",
    "\n",
    "            rmse_list = np.append(rmse_list, rmse / k)\n",
    "        \n",
    "        i_lambda = np.unravel_index(np.argmin(rmse_list, axis=None), \n",
    "                                         rmse_list.shape)\n",
    "        \n",
    "        lambddas.append(lambdda[i_lambda[0]])\n",
    "        back_e_a = np.append(back_e_a, np.amin(rmse_list))\n",
    "    \n",
    "    best_lambda.append(min(lambddas))\n",
    "    var_wrap = np.append(var_wrap, np.amin(back_e_a))\n",
    "\n",
    "    i_drop =  np.unravel_index(np.argmin(back_e_a, axis=None), \n",
    "                                         back_e_a.shape) # Wichever has the best lambda\n",
    "    drop.append(i_drop[0])\n",
    "    Phi = np.delete(Phi, i_drop[0] + 1, axis=1)\n",
    "    Q_j -= 1"
   ]
  },
  {
   "cell_type": "markdown",
   "metadata": {},
   "source": [
    "O melhor lambda de regularização para cada retirada de variável segue abaixo:"
   ]
  },
  {
   "cell_type": "code",
   "execution_count": 16,
   "metadata": {},
   "outputs": [
    {
     "data": {
      "text/plain": [
       "[10000.0,\n",
       " 10000.0,\n",
       " 10000.0,\n",
       " 10000.0,\n",
       " 10000.0,\n",
       " 10000.0,\n",
       " 10000.0,\n",
       " 10000.0,\n",
       " 10000.0,\n",
       " 10000.0,\n",
       " 10000.0,\n",
       " 10000.0,\n",
       " 10000.0,\n",
       " 10000.0,\n",
       " 10000.0,\n",
       " 10000.0,\n",
       " 10000.0,\n",
       " 1000.0,\n",
       " 0]"
      ]
     },
     "execution_count": 16,
     "metadata": {},
     "output_type": "execute_result"
    }
   ],
   "source": [
    "best_lambda"
   ]
  },
  {
   "cell_type": "markdown",
   "metadata": {},
   "source": [
    "Após treinamento deve-se verificar qual o número de variáveis retiradas pelo Wrapper torna o preditor mais eficaz."
   ]
  },
  {
   "cell_type": "code",
   "execution_count": 17,
   "metadata": {},
   "outputs": [
    {
     "data": {
      "image/png": "[encoded data removed]",
      "text/plain": [
       "<matplotlib.figure.Figure at 0x10d37d400>"
      ]
     },
     "metadata": {},
     "output_type": "display_data"
    }
   ],
   "source": [
    "plt.figure(figsize=(10,10))\n",
    "plt.title(\"Varíaveis retiradas x RMSE\")\n",
    "plt.ylabel(\"RMSE\")\n",
    "plt.xlabel(\"Num de variáveis retiradas\")\n",
    "plt.ylim(15.1,15.150)\n",
    "plt.xticks(np.arange(20))\n",
    "plt.plot(var_wrap)\n",
    "plt.show()"
   ]
  },
  {
   "cell_type": "markdown",
   "metadata": {},
   "source": [
    "O gráfico acima nos mostra que o erro se torna menor ao retirarmos **8** variáveis. Sendo assim, **12** é quantidade de variáveis que forma o conjunto \"ótimo\" para o modelo proposto. Em seguida está a definição de quais são especificamente essas features."
   ]
  },
  {
   "cell_type": "code",
   "execution_count": 18,
   "metadata": {},
   "outputs": [
    {
     "name": "stdout",
     "output_type": "stream",
     "text": [
      "Sequência de retirada de variáveis para melhorar o modelo:\n",
      "12\n",
      "11\n",
      "16\n",
      "9\n",
      "14\n",
      "18\n",
      "6\n",
      "13\n",
      "7\n",
      "4\n",
      "15\n",
      "10\n",
      "19\n",
      "5\n",
      "2\n",
      "1\n",
      "17\n",
      "8\n",
      "3\n"
     ]
    }
   ],
   "source": [
    "var_list = np.arange(0,20)\n",
    "print(\"Sequência de retirada de variáveis para melhorar o modelo:\")\n",
    "for i in (drop):\n",
    "    print(var_list[i]) # Since first column of bias is not represented here, we should shift right\n",
    "    var_list = np.delete(var_list, i, axis=0)"
   ]
  },
  {
   "cell_type": "markdown",
   "metadata": {},
   "source": [
    "#### Comentário\n",
    "De acordo com a sequência obtida acima, as variáveis do conjunto ótimo estão dispostas na tabela abaixo. Como a variável de Bias não foi retirada em nenhum momento, por motivos de design do projeto (notadamente essa variável possuía influência maior que as outras), foi feito um shift para a direita com as nossas features.\n",
    "\n",
    "| 0 | 1 | 2 | 3 | 4 | 5 | 6 | 7 | 8 | 9 | 10 | 11 | 12 | 13 | 14 | 15 | 16 | 17 | 18 | 19 | 20 |\n",
    "|---|---|---|---|---|---|---|---|---|---|----|----|----|----|----|----|----|----|----|----|----|\n",
    "| x | x | x | x | x | x | x | o | x | x | o  | x  | o  | o  | o  | o  | x  | o  | x  | o  | x  |"
   ]
  },
  {
   "cell_type": "markdown",
   "metadata": {},
   "source": [
    "### Parte C\n",
    "Outra abordagem para a seleção de variáveis é a aplicação de Filtro. Deve-se utilizar alguma métrica para escolher quais variáveis são mais importantes e influenciam no modelo. Sendo assim, será usada a Correlação linear (Pearson)."
   ]
  },
  {
   "cell_type": "code",
   "execution_count": 19,
   "metadata": {
    "collapsed": true
   },
   "outputs": [],
   "source": [
    "def centering(y):\n",
    "    \n",
    "    y_mean = np.mean(y)\n",
    "    y_cen = y - y_mean\n",
    "    y_cen = y_cen.reshape(y_cen.shape[0], 1)\n",
    "    return y_cen\n",
    "\n",
    "def correlation(var, y):\n",
    "    \n",
    "    # Center var after mean\n",
    "    corr = np.sum(np.multiply(var, y)) /np.sqrt(np.sum(var ** 2) * np.sum(y ** 2))\n",
    "    return corr"
   ]
  },
  {
   "cell_type": "code",
   "execution_count": 20,
   "metadata": {
    "collapsed": true
   },
   "outputs": [],
   "source": [
    "Q_i = 21 # Features\n",
    "k = 26 # k-fold\n",
    "Phi = Phi_matrix(ss_b, Q_i)\n",
    "y = ss[Q_i - 1:]\n",
    "lambdda = [ 1e-4, 1e-3, 1e-2, 1e-1, 0, 1e2, 1e3, 1e4, 1e5, 1e6, 1e8, 1e9]\n",
    "corr = []\n",
    "rmse_list = np.array([])\n",
    "\n",
    "y_cent = centering(y) # Center array Y befor for loop. No need to do this inside the loop.\n",
    "\n",
    "\n",
    "for q_j in range(1, Q_i):\n",
    "    \n",
    "    cm = col_mask(Phi.shape[1], q_j)  \n",
    "    var = Phi[:,~cm] # Vary column to be tested.\n",
    "    var_centered = centering(var)\n",
    "    \n",
    "    corr.append(correlation(y_cent, var_centered))\n",
    "    \n",
    "    "
   ]
  },
  {
   "cell_type": "markdown",
   "metadata": {},
   "source": [
    "Abaixo segue a correlação entre as variáveis de entrada e a saída observada. A sequência está ordenada da variável mais recente para a mais antiga."
   ]
  },
  {
   "cell_type": "code",
   "execution_count": 21,
   "metadata": {
    "scrolled": false
   },
   "outputs": [
    {
     "data": {
      "text/plain": [
       "[0.9239307587138349,\n",
       " 0.89341979069899036,\n",
       " 0.87861310869312692,\n",
       " 0.866970890645401,\n",
       " 0.85293344763363343,\n",
       " 0.84057803603157977,\n",
       " 0.823016265694689,\n",
       " 0.80947132546839107,\n",
       " 0.79952745506653111,\n",
       " 0.78027719801169826,\n",
       " 0.7595273154549721,\n",
       " 0.73598850756996814,\n",
       " 0.71048216169210332,\n",
       " 0.68896660131133791,\n",
       " 0.66375663892859771,\n",
       " 0.6322868248197544,\n",
       " 0.60383900185503969,\n",
       " 0.5712131825406459,\n",
       " 0.54401103728234412,\n",
       " 0.5139080207178468]"
      ]
     },
     "execution_count": 21,
     "metadata": {},
     "output_type": "execute_result"
    }
   ],
   "source": [
    "corr"
   ]
  },
  {
   "cell_type": "markdown",
   "metadata": {},
   "source": [
    "Máscara de features a serem utilizadas na correlação."
   ]
  },
  {
   "cell_type": "code",
   "execution_count": 22,
   "metadata": {},
   "outputs": [
    {
     "data": {
      "text/plain": [
       "array([ True,  True,  True,  True,  True,  True,  True,  True,  True,\n",
       "        True,  True,  True, False, False, False, False, False, False,\n",
       "       False, False, False], dtype=bool)"
      ]
     },
     "execution_count": 22,
     "metadata": {},
     "output_type": "execute_result"
    }
   ],
   "source": [
    "corr = np.array([True if (i > 0.72) else False for i in (corr)])# To keep it with 12 variables. \n",
    "corr = np.append(corr, False)    #Add 1 in len for Bias\n",
    "corr"
   ]
  },
  {
   "cell_type": "code",
   "execution_count": 23,
   "metadata": {
    "collapsed": true
   },
   "outputs": [],
   "source": [
    "# Regularization - Ridge Regression\n",
    "for f in range(len(lambdda)):\n",
    "\n",
    "    #Refresh K-Fold parameters\n",
    "    rmse = 0\n",
    "    for k_i in range(k):    \n",
    "        rm = rows_mask(Phi.shape[0], Phi.shape[1] - 1, k, k_i)\n",
    "\n",
    "        Phi_train = Phi[~rm]\n",
    "        y_train = y[~rm]\n",
    "        Phi_tst = Phi[rm]\n",
    "        y_test = y[rm]\n",
    "\n",
    "        Phi_train = Phi_train[:,corr]\n",
    "        Phi_tst = Phi_tst[:,corr]\n",
    "\n",
    "        # Obtain Linear Regressor predictor with train data \n",
    "        lin_reg = pred_ridge(Phi_train, y_train, lambdda[f])\n",
    "\n",
    "        # RMSE metric of test set\n",
    "        rmse += math.sqrt(np.mean(np.power(np.dot(Phi_tst, lin_reg.T) - y_test, 2)))\n",
    "    \n",
    "    rmse_list = np.append(rmse_list, rmse / k)\n",
    "    i_lambda = np.unravel_index(np.argmin(rmse_list, axis=None), \n",
    "                                         rmse_list.shape)\n",
    "        \n",
    "lambddas = lambdda[i_lambda[0]]\n"
   ]
  },
  {
   "cell_type": "markdown",
   "metadata": {},
   "source": [
    "Abaixo está o hiperparâmetro Lambda da regularização que melhor se aplica à abordagem de filtro."
   ]
  },
  {
   "cell_type": "code",
   "execution_count": 24,
   "metadata": {},
   "outputs": [
    {
     "data": {
      "text/plain": [
       "10000.0"
      ]
     },
     "execution_count": 24,
     "metadata": {},
     "output_type": "execute_result"
    }
   ],
   "source": [
    "lambddas"
   ]
  },
  {
   "cell_type": "markdown",
   "metadata": {},
   "source": [
    "#### Comentário\n",
    "A correlação de Pearson indicou que os dados mais recentes são aqueles que possuem mais correlação com a observação de saída. Percebe-se que esse método de seleção de variáveis não vai ao encontro do Wrapper com Backward Elimination realizado no item anterior. No entanto, nada indica com clareza qual o erro presente na abordagem do filtro."
   ]
  },
  {
   "cell_type": "code",
   "execution_count": null,
   "metadata": {
    "collapsed": true
   },
   "outputs": [],
   "source": []
  }
 ],
 "metadata": {
  "kernelspec": {
   "display_name": "Python 3",
   "language": "python",
   "name": "python3"
  },
  "language_info": {
   "codemirror_mode": {
    "name": "ipython",
    "version": 3
   },
   "file_extension": ".py",
   "mimetype": "text/x-python",
   "name": "python",
   "nbconvert_exporter": "python",
   "pygments_lexer": "ipython3",
   "version": "3.6.1"
  }
 },
 "nbformat": 4,
 "nbformat_minor": 2
}
