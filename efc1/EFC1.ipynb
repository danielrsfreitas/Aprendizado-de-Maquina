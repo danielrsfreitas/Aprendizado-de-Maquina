{
 "cells": [
  {
   "cell_type": "code",
   "execution_count": 1,
   "metadata": {
    "collapsed": true
   },
   "outputs": [],
   "source": [
    "import pandas as pd\n",
    "import math\n",
    "import numpy as np\n",
    "from numpy import linalg\n",
    "import matplotlib.pyplot as plt \n",
    "from scipy.optimize import lsq_linear"
   ]
  },
  {
   "cell_type": "code",
   "execution_count": 2,
   "metadata": {
    "collapsed": true
   },
   "outputs": [],
   "source": [
    "ss = np.loadtxt(\"sunspot.txt\" )"
   ]
  },
  {
   "cell_type": "code",
   "execution_count": 3,
   "metadata": {},
   "outputs": [
    {
     "data": {
      "text/plain": [
       "(266, 13)"
      ]
     },
     "execution_count": 3,
     "metadata": {},
     "output_type": "execute_result"
    }
   ],
   "source": [
    "ss.shape"
   ]
  },
  {
   "cell_type": "code",
   "execution_count": 4,
   "metadata": {
    "collapsed": true
   },
   "outputs": [],
   "source": [
    "ss = np.delete(ss, 0, axis=1) # Delete years"
   ]
  },
  {
   "cell_type": "code",
   "execution_count": 5,
   "metadata": {},
   "outputs": [
    {
     "data": {
      "text/plain": [
       "(266, 12)"
      ]
     },
     "execution_count": 5,
     "metadata": {},
     "output_type": "execute_result"
    }
   ],
   "source": [
    "ss.shape"
   ]
  },
  {
   "cell_type": "code",
   "execution_count": 6,
   "metadata": {
    "collapsed": true,
    "scrolled": true
   },
   "outputs": [],
   "source": [
    "ss = np.reshape(ss, ss.shape[0] * ss.shape[1])"
   ]
  },
  {
   "cell_type": "code",
   "execution_count": 7,
   "metadata": {},
   "outputs": [
    {
     "data": {
      "image/png": "[encoded data removed]",
      "text/plain": [
       "<matplotlib.figure.Figure at 0x112f2d550>"
      ]
     },
     "metadata": {},
     "output_type": "display_data"
    }
   ],
   "source": [
    "plt.plot(ss)\n",
    "plt.show()"
   ]
  },
  {
   "cell_type": "markdown",
   "metadata": {},
   "source": [
    "# Part A"
   ]
  },
  {
   "cell_type": "code",
   "execution_count": 64,
   "metadata": {
    "collapsed": true
   },
   "outputs": [],
   "source": [
    "TEST_SIZE = 12 * 5 # 12 months for 5 years\n",
    "K = 21 # num o variables + 1 (bias)\n",
    "TRAIN_SIZE = ss.shape[0] - TEST_SIZE\n",
    "\n",
    "\n",
    "ss_train = ss[:TRAIN_SIZE]\n",
    "ss_test = ss[TRAIN_SIZE:]\n",
    "\n",
    "assert ss_test.shape[0] == TEST_SIZE, \"Something went wrong with train/test split!\""
   ]
  },
  {
   "cell_type": "code",
   "execution_count": 65,
   "metadata": {
    "collapsed": true
   },
   "outputs": [],
   "source": [
    "Phi = np.array([])\n",
    "for i in range(len(ss_train) - K + 1):\n",
    "    Phi = np.append(Phi, 1)\n",
    "    for j in range(K - 2, -1, -1):\n",
    "        Phi = np.append(Phi, ss_train[i + j])"
   ]
  },
  {
   "cell_type": "code",
   "execution_count": 66,
   "metadata": {},
   "outputs": [],
   "source": [
    "y_train = ss_train[K-1:]\n",
    "y_test = ss_test[K-1:] # This is a very good question. Will we use training data to predict test data ? Data leakage\n",
    "Phi = Phi.reshape(int(Phi.shape[0] / K), K)\n",
    "\n",
    "assert y_train.shape[0] == Phi.shape[0], \"Matrix lenght does not match for multiplication!\" "
   ]
  },
  {
   "cell_type": "code",
   "execution_count": 67,
   "metadata": {},
   "outputs": [
    {
     "data": {
      "text/plain": [
       "array([[   1. ,  103. ,   85.4, ...,   70. ,   62.6,   58. ],\n",
       "       [   1. ,   91.2,  103. , ...,   55.7,   70. ,   62.6],\n",
       "       [   1. ,   65.7,   91.2, ...,   85. ,   55.7,   70. ],\n",
       "       ..., \n",
       "       [   1. ,    4.3,    0. , ...,    2.9,    9.3,    2.1],\n",
       "       [   1. ,    4.8,    4.3, ...,    3.2,    2.9,    9.3],\n",
       "       [   1. ,    4.1,    4.8, ...,    3.4,    3.2,    2.9]])"
      ]
     },
     "execution_count": 67,
     "metadata": {},
     "output_type": "execute_result"
    }
   ],
   "source": [
    "Phi"
   ]
  },
  {
   "cell_type": "code",
   "execution_count": 68,
   "metadata": {},
   "outputs": [
    {
     "data": {
      "text/plain": [
       "array([ 91.2,  65.7,  63.3, ...,   4.8,   4.1,  10.8])"
      ]
     },
     "execution_count": 68,
     "metadata": {},
     "output_type": "execute_result"
    }
   ],
   "source": [
    "y_train"
   ]
  },
  {
   "cell_type": "code",
   "execution_count": 69,
   "metadata": {
    "scrolled": true
   },
   "outputs": [
    {
     "data": {
      "text/plain": [
       "array([  3.40753279e+00,   5.42742346e-01,   9.36178958e-02,\n",
       "         1.01431739e-01,   8.66568705e-02,   3.81649881e-02,\n",
       "         6.33077050e-02,   8.09135445e-04,   2.78924119e-02,\n",
       "         9.55003770e-02,   2.07517303e-02,   2.67433309e-02,\n",
       "         5.34725403e-03,  -3.01700873e-02,   2.73501594e-02,\n",
       "         1.32974778e-02,  -4.66236520e-02,  -5.55622599e-04,\n",
       "        -7.26082436e-02,  -7.74804120e-03,  -5.20224438e-02])"
      ]
     },
     "execution_count": 69,
     "metadata": {},
     "output_type": "execute_result"
    }
   ],
   "source": [
    "lin_reg = np.dot(np.dot(linalg.inv(np.dot(Phi.transpose(),Phi)), Phi.transpose()), y_train) \n",
    "lin_reg"
   ]
  },
  {
   "cell_type": "code",
   "execution_count": 70,
   "metadata": {
    "collapsed": true
   },
   "outputs": [],
   "source": [
    "################ End of training ################"
   ]
  },
  {
   "cell_type": "code",
   "execution_count": 71,
   "metadata": {
    "collapsed": true
   },
   "outputs": [],
   "source": [
    "################      RMSE_1    ################"
   ]
  },
  {
   "cell_type": "code",
   "execution_count": 72,
   "metadata": {},
   "outputs": [
    {
     "data": {
      "text/plain": [
       "(3171, 21)"
      ]
     },
     "execution_count": 72,
     "metadata": {},
     "output_type": "execute_result"
    }
   ],
   "source": [
    "# Whole matrix (train and test)\n",
    "Phi_tot = np.array([])\n",
    "\n",
    "for i in range(len(ss) - K):\n",
    "    Phi_tot = np.append(Phi_tot, 1)\n",
    "    for j in range(K - 2, -1, -1):\n",
    "        Phi_tot = np.append(Phi_tot, ss[i + j])\n",
    "Phi_tot = Phi_tot.reshape(int(Phi_tot.shape[0] / K), K)\n",
    "Phi_tot.shape"
   ]
  },
  {
   "cell_type": "code",
   "execution_count": 73,
   "metadata": {},
   "outputs": [
    {
     "data": {
      "text/plain": [
       "17.75688453845377"
      ]
     },
     "execution_count": 73,
     "metadata": {},
     "output_type": "execute_result"
    }
   ],
   "source": [
    "math.sqrt(np.mean(np.power(np.dot(Phi_tot,lin_reg.T) - ss[K:], 2)))"
   ]
  },
  {
   "cell_type": "code",
   "execution_count": 74,
   "metadata": {
    "collapsed": true
   },
   "outputs": [],
   "source": [
    "################      RMSE_2    ################"
   ]
  },
  {
   "cell_type": "code",
   "execution_count": 75,
   "metadata": {},
   "outputs": [],
   "source": [
    "Phi_tst = np.array([])\n",
    "\n",
    "for i in range(len(ss_test) - K + 1 ):\n",
    "    Phi_tst = np.append(Phi_tst, 1)\n",
    "    for j in range(K - 2, -1, -1):\n",
    "        Phi_tst = np.append(Phi_tst, ss_test[i + j])\n",
    "Phi_tst = Phi_tst.reshape(int(Phi_tst.shape[0] / K), K)"
   ]
  },
  {
   "cell_type": "code",
   "execution_count": 76,
   "metadata": {},
   "outputs": [
    {
     "data": {
      "text/plain": [
       "(40, 21)"
      ]
     },
     "execution_count": 76,
     "metadata": {},
     "output_type": "execute_result"
    }
   ],
   "source": [
    "Phi_tst.shape"
   ]
  },
  {
   "cell_type": "code",
   "execution_count": 77,
   "metadata": {},
   "outputs": [
    {
     "data": {
      "text/plain": [
       "[16.492937783757885, 15.370232088543426]"
      ]
     },
     "execution_count": 77,
     "metadata": {},
     "output_type": "execute_result"
    }
   ],
   "source": [
    "rmse = []\n",
    "rmse.append(math.sqrt(np.mean(np.power(np.dot(Phi_tst,lin_reg.T) - y_test, 2))))\n",
    "rmse.append(math.sqrt(np.mean(np.power(np.dot(Phi,lin_reg.T) - y_train, 2))))\n",
    "\n",
    "rmse"
   ]
  },
  {
   "cell_type": "code",
   "execution_count": 78,
   "metadata": {
    "collapsed": true
   },
   "outputs": [],
   "source": [
    "################ Predictor Chart ################"
   ]
  },
  {
   "cell_type": "code",
   "execution_count": 79,
   "metadata": {
    "scrolled": false
   },
   "outputs": [
    {
     "data": {
      "image/png": "[encoded data removed]",
      "text/plain": [
       "<matplotlib.figure.Figure at 0x11396b470>"
      ]
     },
     "metadata": {},
     "output_type": "display_data"
    }
   ],
   "source": [
    "y_pred = np.dot(Phi_tst,lin_reg.T)\n",
    "plt.plot(y_pred,label='pred')\n",
    "plt.plot(y_test,label='test')\n",
    "plt.legend()\n",
    "plt.show()"
   ]
  },
  {
   "cell_type": "markdown",
   "metadata": {},
   "source": [
    "# Part B"
   ]
  },
  {
   "cell_type": "code",
   "execution_count": 103,
   "metadata": {},
   "outputs": [
    {
     "data": {
      "text/plain": [
       "[0.0, 0.1, 0.2, 0.3, 0.4, 1, 2, 3, 4, 5]"
      ]
     },
     "execution_count": 103,
     "metadata": {},
     "output_type": "execute_result"
    }
   ],
   "source": [
    "# Hyperparameters \n",
    "k = 5 # k-fold cross validation\n",
    "Q = 21 # K + 1. Initial number of variables for Wrapper\n",
    "lambdda = [i/10 for i in range(5) ] # Will choose lambdda instead of lambda for obvious reason\n",
    "lambdda += ([i for i in range(1,6)])\n",
    "lambdda"
   ]
  },
  {
   "cell_type": "code",
   "execution_count": null,
   "metadata": {
    "collapsed": true
   },
   "outputs": [],
   "source": [
    "# Wrapper\n",
    "for z in range()"
   ]
  }
 ],
 "metadata": {
  "kernelspec": {
   "display_name": "Python 3",
   "language": "python",
   "name": "python3"
  },
  "language_info": {
   "codemirror_mode": {
    "name": "ipython",
    "version": 3
   },
   "file_extension": ".py",
   "mimetype": "text/x-python",
   "name": "python",
   "nbconvert_exporter": "python",
   "pygments_lexer": "ipython3",
   "version": "3.6.1"
  }
 },
 "nbformat": 4,
 "nbformat_minor": 2
}
