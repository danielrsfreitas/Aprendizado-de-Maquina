{
 "cells": [
  {
   "cell_type": "code",
   "execution_count": 89,
   "metadata": {},
   "outputs": [],
   "source": [
    "import pandas as pd\n",
    "import math\n",
    "import numpy as np\n",
    "from numpy import linalg\n",
    "import matplotlib.pyplot as plt \n",
    "from scipy.optimize import lsq_linear"
   ]
  },
  {
   "cell_type": "code",
   "execution_count": 20,
   "metadata": {},
   "outputs": [],
   "source": [
    "ss = np.loadtxt(\"sunspot.txt\" )"
   ]
  },
  {
   "cell_type": "code",
   "execution_count": 21,
   "metadata": {},
   "outputs": [
    {
     "data": {
      "text/plain": [
       "(266, 13)"
      ]
     },
     "execution_count": 21,
     "metadata": {},
     "output_type": "execute_result"
    }
   ],
   "source": [
    "ss.shape"
   ]
  },
  {
   "cell_type": "code",
   "execution_count": 22,
   "metadata": {},
   "outputs": [],
   "source": [
    "ss = np.delete(ss, 0, axis=1) # Delete years"
   ]
  },
  {
   "cell_type": "code",
   "execution_count": 23,
   "metadata": {},
   "outputs": [
    {
     "data": {
      "text/plain": [
       "(266, 12)"
      ]
     },
     "execution_count": 23,
     "metadata": {},
     "output_type": "execute_result"
    }
   ],
   "source": [
    "ss.shape"
   ]
  },
  {
   "cell_type": "code",
   "execution_count": 24,
   "metadata": {
    "scrolled": true
   },
   "outputs": [],
   "source": [
    "ss = np.reshape(ss, ss.shape[0] * ss.shape[1])"
   ]
  },
  {
   "cell_type": "code",
   "execution_count": 121,
   "metadata": {},
   "outputs": [
    {
     "data": {
      "image/png": "[encoded data removed]",
      "text/plain": [
       "<matplotlib.figure.Figure at 0x10fb4c438>"
      ]
     },
     "metadata": {},
     "output_type": "display_data"
    }
   ],
   "source": [
    "plt.plot(ss)\n",
    "plt.show()"
   ]
  },
  {
   "cell_type": "code",
   "execution_count": 122,
   "metadata": {},
   "outputs": [],
   "source": [
    "TEST_SIZE = 12 * 5 # 12 months for 5 years\n",
    "K = 20 # num o variables\n",
    "TRAIN_SIZE = ss.shape[0] - TEST_SIZE\n",
    "\n",
    "\n",
    "ss_train = ss[:TRAIN_SIZE]\n",
    "ss_test = ss[TRAIN_SIZE:]\n",
    "\n",
    "assert ss_test.shape[0] == TEST_SIZE, \"Something went wrong with train/test split!\""
   ]
  },
  {
   "cell_type": "code",
   "execution_count": 155,
   "metadata": {},
   "outputs": [],
   "source": [
    "Phi = np.array([])\n",
    "\n",
    "# Phi\n",
    "for i in range(len(ss_train) - K):\n",
    "    Phi = np.append(Phi, 1)\n",
    "    for j in range(K - 2, -1, -1):\n",
    "        Phi = np.append(Phi, ss_train[i + j])"
   ]
  },
  {
   "cell_type": "code",
   "execution_count": 156,
   "metadata": {},
   "outputs": [],
   "source": [
    "y_train = ss_train[K:]\n",
    "y_test = ss_test # This is a very good question. Will we use training data to predict test data ? Data leakage\n",
    "Phi = Phi.reshape(int(Phi.shape[0] / K), K)\n",
    "\n",
    "assert y_train.shape[0] == Phi.shape[0], \"Matrix lenght does not match for multiplication!\" "
   ]
  },
  {
   "cell_type": "code",
   "execution_count": 157,
   "metadata": {},
   "outputs": [
    {
     "data": {
      "text/plain": [
       "(3112,)"
      ]
     },
     "execution_count": 157,
     "metadata": {},
     "output_type": "execute_result"
    }
   ],
   "source": [
    "y_train.shape"
   ]
  },
  {
   "cell_type": "code",
   "execution_count": 158,
   "metadata": {},
   "outputs": [
    {
     "data": {
      "text/plain": [
       "(3112, 3112)"
      ]
     },
     "execution_count": 158,
     "metadata": {},
     "output_type": "execute_result"
    }
   ],
   "source": [
    "np.dot(Phi, Phi.transpose()).shape"
   ]
  },
  {
   "cell_type": "code",
   "execution_count": 159,
   "metadata": {
    "scrolled": true
   },
   "outputs": [
    {
     "data": {
      "text/plain": [
       "array([ 5.16127726,  0.38916807,  0.1545605 ,  0.14181681,  0.08668982,\n",
       "        0.08367843,  0.03444064,  0.0291109 ,  0.11038795,  0.07249905,\n",
       "        0.03726148,  0.01715158, -0.02816499,  0.01106781,  0.02632458,\n",
       "       -0.04033188, -0.02866873, -0.07561765, -0.05000747, -0.07152691])"
      ]
     },
     "execution_count": 159,
     "metadata": {},
     "output_type": "execute_result"
    }
   ],
   "source": [
    "pred = np.dot(np.dot(linalg.inv(np.dot(Phi.transpose(),Phi)), Phi.transpose()), y) \n",
    "pred"
   ]
  },
  {
   "cell_type": "code",
   "execution_count": 160,
   "metadata": {
    "collapsed": true
   },
   "outputs": [],
   "source": [
    "################ End of training ################"
   ]
  },
  {
   "cell_type": "code",
   "execution_count": 161,
   "metadata": {
    "collapsed": true
   },
   "outputs": [],
   "source": [
    "################      RMSE_1    ################"
   ]
  },
  {
   "cell_type": "code",
   "execution_count": 162,
   "metadata": {},
   "outputs": [
    {
     "data": {
      "text/plain": [
       "(3172, 20)"
      ]
     },
     "execution_count": 162,
     "metadata": {},
     "output_type": "execute_result"
    }
   ],
   "source": [
    "# Whole matrix (train and test)\n",
    "Phi_tot = np.array([])\n",
    "\n",
    "for i in range(len(ss) - K):\n",
    "    Phi_tot = np.append(Phi_tot, 1)\n",
    "    for j in range(K - 2, -1, -1):\n",
    "        Phi_tot = np.append(Phi_tot, ss[i + j])\n",
    "Phi_tot = Phi_tot.reshape(int(Phi_tot.shape[0] / K), K)\n",
    "Phi_tot.shape"
   ]
  },
  {
   "cell_type": "code",
   "execution_count": 138,
   "metadata": {},
   "outputs": [
    {
     "data": {
      "text/plain": [
       "346.1633209434049"
      ]
     },
     "execution_count": 138,
     "metadata": {},
     "output_type": "execute_result"
    }
   ],
   "source": [
    "math.sqrt(np.mean(np.power(np.dot(Phi_tot,pred.T) - ss[K:], 2)))"
   ]
  },
  {
   "cell_type": "code",
   "execution_count": 139,
   "metadata": {
    "collapsed": true
   },
   "outputs": [],
   "source": [
    "################      RMSE_2    ################"
   ]
  },
  {
   "cell_type": "code",
   "execution_count": 163,
   "metadata": {},
   "outputs": [],
   "source": [
    "Phi_tst = np.array([])\n",
    "\n",
    "for i in range(len(ss_test) - K):\n",
    "    Phi_tst = np.append(Phi_tst, 1)\n",
    "    for j in range(K - 2, -1, -1):\n",
    "        Phi_tst = np.append(Phi_tst, ss_test[i + j])\n",
    "Phi_tst = Phi_tst.reshape(int(Phi_tst.shape[0] / K), K)"
   ]
  },
  {
   "cell_type": "code",
   "execution_count": 154,
   "metadata": {},
   "outputs": [
    {
     "data": {
      "text/plain": [
       "[355.4924485195804, 17.49368818023439]"
      ]
     },
     "execution_count": 154,
     "metadata": {},
     "output_type": "execute_result"
    }
   ],
   "source": [
    "rmse = []\n",
    "rmse.append(math.sqrt(np.mean(np.power(np.dot(Phi_tst,pred.T) - ss_test[K:], 2))))\n",
    "rmse.append(math.sqrt(np.mean(np.power(np.dot(Phi,pred.T) - ss_train[K:], 2))))\n",
    "\n",
    "rmse"
   ]
  },
  {
   "cell_type": "code",
   "execution_count": null,
   "metadata": {
    "collapsed": true
   },
   "outputs": [],
   "source": []
  }
 ],
 "metadata": {
  "kernelspec": {
   "display_name": "Python 3",
   "language": "python",
   "name": "python3"
  },
  "language_info": {
   "codemirror_mode": {
    "name": "ipython",
    "version": 3
   },
   "file_extension": ".py",
   "mimetype": "text/x-python",
   "name": "python",
   "nbconvert_exporter": "python",
   "pygments_lexer": "ipython3",
   "version": "3.6.1"
  }
 },
 "nbformat": 4,
 "nbformat_minor": 2
}
