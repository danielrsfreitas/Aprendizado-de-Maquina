{
 "cells": [
  {
   "cell_type": "markdown",
   "metadata": {},
   "source": [
    "# IA006 - Aprendizado de Máquina\n",
    "## EFC 2 - Classificadores Lineares\n",
    "\n",
    "### Alunos\n",
    "* Daniel Rodrigues Silveira de Freitas - 145782\n",
    "* João Carlos Cerqueira - 146611\n",
    "\n",
    "## Parte 3 - Classificação multi-classe"
   ]
  },
  {
   "cell_type": "code",
   "execution_count": 1,
   "metadata": {},
   "outputs": [],
   "source": [
    "import seaborn as sns\n",
    "import numpy as np\n",
    "import pandas as pd\n",
    "import matplotlib.pyplot as plt\n",
    "import scipy.optimize as op\n",
    "\n",
    "%matplotlib inline"
   ]
  },
  {
   "cell_type": "code",
   "execution_count": 2,
   "metadata": {},
   "outputs": [],
   "source": [
    "plt.rcParams['figure.figsize'] = (9.0, 6.0)"
   ]
  },
  {
   "cell_type": "code",
   "execution_count": 3,
   "metadata": {},
   "outputs": [],
   "source": [
    "class LogReg():\n",
    "    def __init__(self):\n",
    "        pass\n",
    "\n",
    "    def pred(self, X):\n",
    "        try:\n",
    "            return self.predict(self.fit_theta, X)\n",
    "        except:\n",
    "            print(\"Model is not trained yet\")\n",
    "    \n",
    "    def prob(self, X):\n",
    "        return self.probability(self.fit_theta, X)\n",
    "    \n",
    "    def predict(self, theta, X):\n",
    "        s = self.probability(theta, X)\n",
    "        return s > 0.5\n",
    "\n",
    "    def probability(self, theta, X):\n",
    "        return self.sigmoid(X @ theta)\n",
    "\n",
    "    def sigmoid(self, z):\n",
    "        return 1/(np.exp(-z) + 1)\n",
    "\n",
    "    def cost_function(self, theta, X, y):\n",
    "        m = y.shape[0]\n",
    "        part1 = (-1 * y) @ np.log(self.sigmoid(X @ theta))\n",
    "        part2 = (1 - y) @ np.log(1 - self.sigmoid(X @ theta))\n",
    "        J = 1/m * (part1 - part2)\n",
    "        return J\n",
    "\n",
    "    def grad_function(self, theta, X, y):\n",
    "        m = y.shape[0]\n",
    "        grad = 1/m * (X.T @ (self.sigmoid(X @ theta) - y))\n",
    "        return grad\n",
    "    \n",
    "    def fit(self, X, y, alpha=1, niter=10000, epsilon=0.001):\n",
    "        theta = np.zeros(X.shape[1])\n",
    "        \n",
    "        for i in range(niter):\n",
    "            grad = self.grad_function(theta, X, y)\n",
    "            theta = theta - alpha * grad\n",
    "            if np.sqrt((grad**2).sum()) < epsilon:\n",
    "                break\n",
    "            \n",
    "        self.fit_theta = theta\n",
    "        return self.fit_theta"
   ]
  },
  {
   "cell_type": "code",
   "execution_count": 4,
   "metadata": {},
   "outputs": [],
   "source": [
    "class KnnClass():\n",
    "    def __init__(self):\n",
    "        pass\n",
    "    \n",
    "    def distance(self, X1, X2):\n",
    "        return np.sqrt(((X1 - X2)**2).sum(axis=1))\n",
    "\n",
    "    def fit(self, X, y, k):\n",
    "        self.X_train = X\n",
    "        self.y_train = y\n",
    "        self.k = k\n",
    "        \n",
    "    def predict(self, X):\n",
    "        d = np.zeros(X.shape[0])\n",
    "        for i, line in enumerate(X):\n",
    "            dist = self.distance(self.X_train, line)\n",
    "            kn = self.y_train[dist.argsort()[:self.k]]\n",
    "            \n",
    "            label, counts = np.unique(kn, return_counts=True)\n",
    "            d[i] = label[counts.argmax()]\n",
    "            #print(dist, kn, label, counts, d[i])\n",
    "        return d"
   ]
  },
  {
   "cell_type": "code",
   "execution_count": 5,
   "metadata": {},
   "outputs": [],
   "source": [
    "def confmatrix(y_real, y_pred):\n",
    "    conf = np.zeros([4,4])\n",
    "    for target in range(4):\n",
    "        for pred in range(4):\n",
    "            conf[target, pred] = ((y_pred == pred) & (y_real == target)).sum()\n",
    "    #print(conf)\n",
    "    return conf"
   ]
  },
  {
   "cell_type": "code",
   "execution_count": 6,
   "metadata": {},
   "outputs": [],
   "source": [
    "def precision(y_real, y_pred):\n",
    "    pre = 0\n",
    "    for c in range(4):\n",
    "        tp = ((y_real == c) & (y_pred == c)).sum()\n",
    "        fp = ((y_real != c) & (y_pred == c)).sum()\n",
    "        pre += tp / (tp + fp)\n",
    "    pre = pre/4\n",
    "    return pre\n",
    "    \n",
    "def recall(y_real, y_pred):\n",
    "    rec = 0\n",
    "    for c in range(4):\n",
    "        tp = ((y_real == c) & (y_pred == c)).sum()\n",
    "        fn = ((y_real == c) & (y_pred != c)).sum()\n",
    "        rec += tp / (tp + fn)\n",
    "    rec = rec/4\n",
    "    return rec\n",
    "    \n",
    "def f1score(y_real, y_pred):\n",
    "    pre = precision(y_real, y_pred)\n",
    "    rec = recall(y_real, y_pred)\n",
    "    f1 = 2 * pre * rec / (pre + rec)    \n",
    "    return f1"
   ]
  },
  {
   "cell_type": "markdown",
   "metadata": {},
   "source": [
    "# Exploração inicial dos dados\n",
    "\n",
    "Iremos carregar e analisar os dados disponíveis."
   ]
  },
  {
   "cell_type": "code",
   "execution_count": 7,
   "metadata": {},
   "outputs": [
    {
     "name": "stdout",
     "output_type": "stream",
     "text": [
      "(846, 19)\n",
      "['van' 'saab' 'bus' 'opel']\n"
     ]
    },
    {
     "data": {
      "text/html": [
       "<div>\n",
       "<style scoped>\n",
       "    .dataframe tbody tr th:only-of-type {\n",
       "        vertical-align: middle;\n",
       "    }\n",
       "\n",
       "    .dataframe tbody tr th {\n",
       "        vertical-align: top;\n",
       "    }\n",
       "\n",
       "    .dataframe thead th {\n",
       "        text-align: right;\n",
       "    }\n",
       "</style>\n",
       "<table border=\"1\" class=\"dataframe\">\n",
       "  <thead>\n",
       "    <tr style=\"text-align: right;\">\n",
       "      <th></th>\n",
       "      <th>COMPACTNESS</th>\n",
       "      <th>CIRCULARITY</th>\n",
       "      <th>DISTANCE_CIRCULARITY</th>\n",
       "      <th>RADIUS_RATIO</th>\n",
       "      <th>PR.AXIS_ASPECT_RATIO</th>\n",
       "      <th>MAX.LENGTH_ASPECT_RATIO</th>\n",
       "      <th>SCATTER_RATIO</th>\n",
       "      <th>ELONGATEDNESS</th>\n",
       "      <th>PR.AXIS_RECTANGULARITY</th>\n",
       "      <th>MAX.LENGTH_RECTANGULARITY</th>\n",
       "      <th>SCALED_VARIANCE_MAJOR</th>\n",
       "      <th>SCALED_VARIANCE_MINOR</th>\n",
       "      <th>SCALED_RADIUS_OF_GYRATION</th>\n",
       "      <th>SKEWNESS_ABOUT_MAJOR</th>\n",
       "      <th>SKEWNESS_ABOUT_MINOR</th>\n",
       "      <th>KURTOSIS_ABOUT_MAJOR</th>\n",
       "      <th>KURTOSIS_ABOUT_MINOR</th>\n",
       "      <th>HOLLOWS_RATIO</th>\n",
       "      <th>Class</th>\n",
       "    </tr>\n",
       "  </thead>\n",
       "  <tbody>\n",
       "    <tr>\n",
       "      <th>0</th>\n",
       "      <td>95</td>\n",
       "      <td>48</td>\n",
       "      <td>83</td>\n",
       "      <td>178</td>\n",
       "      <td>72</td>\n",
       "      <td>10</td>\n",
       "      <td>162</td>\n",
       "      <td>42</td>\n",
       "      <td>20</td>\n",
       "      <td>159</td>\n",
       "      <td>176</td>\n",
       "      <td>379</td>\n",
       "      <td>184</td>\n",
       "      <td>70</td>\n",
       "      <td>6</td>\n",
       "      <td>16</td>\n",
       "      <td>187</td>\n",
       "      <td>197</td>\n",
       "      <td>van</td>\n",
       "    </tr>\n",
       "    <tr>\n",
       "      <th>1</th>\n",
       "      <td>91</td>\n",
       "      <td>41</td>\n",
       "      <td>84</td>\n",
       "      <td>141</td>\n",
       "      <td>57</td>\n",
       "      <td>9</td>\n",
       "      <td>149</td>\n",
       "      <td>45</td>\n",
       "      <td>19</td>\n",
       "      <td>143</td>\n",
       "      <td>170</td>\n",
       "      <td>330</td>\n",
       "      <td>158</td>\n",
       "      <td>72</td>\n",
       "      <td>9</td>\n",
       "      <td>14</td>\n",
       "      <td>189</td>\n",
       "      <td>199</td>\n",
       "      <td>van</td>\n",
       "    </tr>\n",
       "    <tr>\n",
       "      <th>2</th>\n",
       "      <td>104</td>\n",
       "      <td>50</td>\n",
       "      <td>106</td>\n",
       "      <td>209</td>\n",
       "      <td>66</td>\n",
       "      <td>10</td>\n",
       "      <td>207</td>\n",
       "      <td>32</td>\n",
       "      <td>23</td>\n",
       "      <td>158</td>\n",
       "      <td>223</td>\n",
       "      <td>635</td>\n",
       "      <td>220</td>\n",
       "      <td>73</td>\n",
       "      <td>14</td>\n",
       "      <td>9</td>\n",
       "      <td>188</td>\n",
       "      <td>196</td>\n",
       "      <td>saab</td>\n",
       "    </tr>\n",
       "    <tr>\n",
       "      <th>3</th>\n",
       "      <td>93</td>\n",
       "      <td>41</td>\n",
       "      <td>82</td>\n",
       "      <td>159</td>\n",
       "      <td>63</td>\n",
       "      <td>9</td>\n",
       "      <td>144</td>\n",
       "      <td>46</td>\n",
       "      <td>19</td>\n",
       "      <td>143</td>\n",
       "      <td>160</td>\n",
       "      <td>309</td>\n",
       "      <td>127</td>\n",
       "      <td>63</td>\n",
       "      <td>6</td>\n",
       "      <td>10</td>\n",
       "      <td>199</td>\n",
       "      <td>207</td>\n",
       "      <td>van</td>\n",
       "    </tr>\n",
       "    <tr>\n",
       "      <th>4</th>\n",
       "      <td>85</td>\n",
       "      <td>44</td>\n",
       "      <td>70</td>\n",
       "      <td>205</td>\n",
       "      <td>103</td>\n",
       "      <td>52</td>\n",
       "      <td>149</td>\n",
       "      <td>45</td>\n",
       "      <td>19</td>\n",
       "      <td>144</td>\n",
       "      <td>241</td>\n",
       "      <td>325</td>\n",
       "      <td>188</td>\n",
       "      <td>127</td>\n",
       "      <td>9</td>\n",
       "      <td>11</td>\n",
       "      <td>180</td>\n",
       "      <td>183</td>\n",
       "      <td>bus</td>\n",
       "    </tr>\n",
       "  </tbody>\n",
       "</table>\n",
       "</div>"
      ],
      "text/plain": [
       "   COMPACTNESS  CIRCULARITY  DISTANCE_CIRCULARITY  RADIUS_RATIO  \\\n",
       "0           95           48                    83           178   \n",
       "1           91           41                    84           141   \n",
       "2          104           50                   106           209   \n",
       "3           93           41                    82           159   \n",
       "4           85           44                    70           205   \n",
       "\n",
       "   PR.AXIS_ASPECT_RATIO  MAX.LENGTH_ASPECT_RATIO  SCATTER_RATIO  \\\n",
       "0                    72                       10            162   \n",
       "1                    57                        9            149   \n",
       "2                    66                       10            207   \n",
       "3                    63                        9            144   \n",
       "4                   103                       52            149   \n",
       "\n",
       "   ELONGATEDNESS  PR.AXIS_RECTANGULARITY  MAX.LENGTH_RECTANGULARITY  \\\n",
       "0             42                      20                        159   \n",
       "1             45                      19                        143   \n",
       "2             32                      23                        158   \n",
       "3             46                      19                        143   \n",
       "4             45                      19                        144   \n",
       "\n",
       "   SCALED_VARIANCE_MAJOR  SCALED_VARIANCE_MINOR  SCALED_RADIUS_OF_GYRATION  \\\n",
       "0                    176                    379                        184   \n",
       "1                    170                    330                        158   \n",
       "2                    223                    635                        220   \n",
       "3                    160                    309                        127   \n",
       "4                    241                    325                        188   \n",
       "\n",
       "   SKEWNESS_ABOUT_MAJOR  SKEWNESS_ABOUT_MINOR  KURTOSIS_ABOUT_MAJOR  \\\n",
       "0                    70                     6                    16   \n",
       "1                    72                     9                    14   \n",
       "2                    73                    14                     9   \n",
       "3                    63                     6                    10   \n",
       "4                   127                     9                    11   \n",
       "\n",
       "   KURTOSIS_ABOUT_MINOR  HOLLOWS_RATIO Class  \n",
       "0                   187            197   van  \n",
       "1                   189            199   van  \n",
       "2                   188            196  saab  \n",
       "3                   199            207   van  \n",
       "4                   180            183   bus  "
      ]
     },
     "execution_count": 7,
     "metadata": {},
     "output_type": "execute_result"
    }
   ],
   "source": [
    "df = pd.read_csv(\"../data/dataset_vehicle.csv\")\n",
    "print(df.shape)\n",
    "print(df['Class'].unique())\n",
    "#print(df.describe())\n",
    "df.head()"
   ]
  },
  {
   "cell_type": "markdown",
   "metadata": {},
   "source": [
    "#### Primeira análise\n",
    "Nesse dataset existem 4 classes distintas: 'van', 'saab', 'bus' e 'opel'. Existem 18 colunas que serão utilizadas como *features* e uma última coluna, que é o label (o *groud truth* do problema). \n",
    "\n",
    "#### Normalização\n",
    "Optou-se por realizar a normalização dos dados de entrada, para evitar-se problemas numéricos ao utilizar-se, por exemplo, o método do gradiente descendente aos dados do problema. Além disso, deve-se adicionar uma coluna de features que servirá como o *bias* do modelo, isto é, uma coluna de valores constantes.\n",
    "\n",
    "#### Validação\n",
    "Para validar os resultados sobre esse dataset empregou-se a validação por *holdout*. Separou-se os dados em 80% de observações de treino e 20% para teste. Além disso, o label foi codificado em valores entre 0 e 3, para facilitar a manipulação."
   ]
  },
  {
   "cell_type": "code",
   "execution_count": 8,
   "metadata": {},
   "outputs": [
    {
     "data": {
      "text/html": [
       "<div>\n",
       "<style scoped>\n",
       "    .dataframe tbody tr th:only-of-type {\n",
       "        vertical-align: middle;\n",
       "    }\n",
       "\n",
       "    .dataframe tbody tr th {\n",
       "        vertical-align: top;\n",
       "    }\n",
       "\n",
       "    .dataframe thead th {\n",
       "        text-align: right;\n",
       "    }\n",
       "</style>\n",
       "<table border=\"1\" class=\"dataframe\">\n",
       "  <thead>\n",
       "    <tr style=\"text-align: right;\">\n",
       "      <th></th>\n",
       "      <th>COMPACTNESS</th>\n",
       "      <th>CIRCULARITY</th>\n",
       "      <th>DISTANCE_CIRCULARITY</th>\n",
       "      <th>RADIUS_RATIO</th>\n",
       "      <th>PR.AXIS_ASPECT_RATIO</th>\n",
       "      <th>MAX.LENGTH_ASPECT_RATIO</th>\n",
       "      <th>SCATTER_RATIO</th>\n",
       "      <th>ELONGATEDNESS</th>\n",
       "      <th>PR.AXIS_RECTANGULARITY</th>\n",
       "      <th>MAX.LENGTH_RECTANGULARITY</th>\n",
       "      <th>SCALED_VARIANCE_MAJOR</th>\n",
       "      <th>SCALED_VARIANCE_MINOR</th>\n",
       "      <th>SCALED_RADIUS_OF_GYRATION</th>\n",
       "      <th>SKEWNESS_ABOUT_MAJOR</th>\n",
       "      <th>SKEWNESS_ABOUT_MINOR</th>\n",
       "      <th>KURTOSIS_ABOUT_MAJOR</th>\n",
       "      <th>KURTOSIS_ABOUT_MINOR</th>\n",
       "      <th>HOLLOWS_RATIO</th>\n",
       "      <th>Class</th>\n",
       "      <th>Bias</th>\n",
       "    </tr>\n",
       "  </thead>\n",
       "  <tbody>\n",
       "    <tr>\n",
       "      <th>0</th>\n",
       "      <td>0.160485</td>\n",
       "      <td>0.508649</td>\n",
       "      <td>0.057784</td>\n",
       "      <td>0.270646</td>\n",
       "      <td>1.306519</td>\n",
       "      <td>0.311358</td>\n",
       "      <td>-0.205723</td>\n",
       "      <td>0.136489</td>\n",
       "      <td>-0.224811</td>\n",
       "      <td>0.757884</td>\n",
       "      <td>-0.402146</td>\n",
       "      <td>-0.344731</td>\n",
       "      <td>0.285643</td>\n",
       "      <td>-0.328861</td>\n",
       "      <td>-0.076666</td>\n",
       "      <td>0.380766</td>\n",
       "      <td>-0.313537</td>\n",
       "      <td>0.183849</td>\n",
       "      <td>van</td>\n",
       "      <td>1</td>\n",
       "    </tr>\n",
       "    <tr>\n",
       "      <th>1</th>\n",
       "      <td>-0.325277</td>\n",
       "      <td>-0.625897</td>\n",
       "      <td>0.121190</td>\n",
       "      <td>-0.834750</td>\n",
       "      <td>-0.595044</td>\n",
       "      <td>0.094024</td>\n",
       "      <td>-0.596759</td>\n",
       "      <td>0.520535</td>\n",
       "      <td>-0.610593</td>\n",
       "      <td>-0.344374</td>\n",
       "      <td>-0.593260</td>\n",
       "      <td>-0.622048</td>\n",
       "      <td>-0.513214</td>\n",
       "      <td>-0.061731</td>\n",
       "      <td>0.533295</td>\n",
       "      <td>0.156833</td>\n",
       "      <td>0.010931</td>\n",
       "      <td>0.452709</td>\n",
       "      <td>van</td>\n",
       "      <td>1</td>\n",
       "    </tr>\n",
       "    <tr>\n",
       "      <th>2</th>\n",
       "      <td>1.253451</td>\n",
       "      <td>0.832805</td>\n",
       "      <td>1.516108</td>\n",
       "      <td>1.196788</td>\n",
       "      <td>0.545894</td>\n",
       "      <td>0.311358</td>\n",
       "      <td>1.147865</td>\n",
       "      <td>-1.143665</td>\n",
       "      <td>0.932534</td>\n",
       "      <td>0.688993</td>\n",
       "      <td>1.094916</td>\n",
       "      <td>1.104113</td>\n",
       "      <td>1.391753</td>\n",
       "      <td>0.071835</td>\n",
       "      <td>1.549895</td>\n",
       "      <td>-0.403000</td>\n",
       "      <td>-0.151303</td>\n",
       "      <td>0.049418</td>\n",
       "      <td>saab</td>\n",
       "      <td>1</td>\n",
       "    </tr>\n",
       "    <tr>\n",
       "      <th>3</th>\n",
       "      <td>-0.082396</td>\n",
       "      <td>-0.625897</td>\n",
       "      <td>-0.005621</td>\n",
       "      <td>-0.296990</td>\n",
       "      <td>0.165581</td>\n",
       "      <td>0.094024</td>\n",
       "      <td>-0.747158</td>\n",
       "      <td>0.648551</td>\n",
       "      <td>-0.610593</td>\n",
       "      <td>-0.344374</td>\n",
       "      <td>-0.911784</td>\n",
       "      <td>-0.740899</td>\n",
       "      <td>-1.465698</td>\n",
       "      <td>-1.263818</td>\n",
       "      <td>-0.076666</td>\n",
       "      <td>-0.291034</td>\n",
       "      <td>1.633267</td>\n",
       "      <td>1.528152</td>\n",
       "      <td>van</td>\n",
       "      <td>1</td>\n",
       "    </tr>\n",
       "    <tr>\n",
       "      <th>4</th>\n",
       "      <td>-1.053921</td>\n",
       "      <td>-0.139663</td>\n",
       "      <td>-0.766486</td>\n",
       "      <td>1.077286</td>\n",
       "      <td>5.236414</td>\n",
       "      <td>9.439378</td>\n",
       "      <td>-0.596759</td>\n",
       "      <td>0.520535</td>\n",
       "      <td>-0.610593</td>\n",
       "      <td>-0.275483</td>\n",
       "      <td>1.668259</td>\n",
       "      <td>-0.650346</td>\n",
       "      <td>0.408545</td>\n",
       "      <td>7.284361</td>\n",
       "      <td>0.533295</td>\n",
       "      <td>-0.179067</td>\n",
       "      <td>-1.449172</td>\n",
       "      <td>-1.698176</td>\n",
       "      <td>bus</td>\n",
       "      <td>1</td>\n",
       "    </tr>\n",
       "  </tbody>\n",
       "</table>\n",
       "</div>"
      ],
      "text/plain": [
       "   COMPACTNESS  CIRCULARITY  DISTANCE_CIRCULARITY  RADIUS_RATIO  \\\n",
       "0     0.160485     0.508649              0.057784      0.270646   \n",
       "1    -0.325277    -0.625897              0.121190     -0.834750   \n",
       "2     1.253451     0.832805              1.516108      1.196788   \n",
       "3    -0.082396    -0.625897             -0.005621     -0.296990   \n",
       "4    -1.053921    -0.139663             -0.766486      1.077286   \n",
       "\n",
       "   PR.AXIS_ASPECT_RATIO  MAX.LENGTH_ASPECT_RATIO  SCATTER_RATIO  \\\n",
       "0              1.306519                 0.311358      -0.205723   \n",
       "1             -0.595044                 0.094024      -0.596759   \n",
       "2              0.545894                 0.311358       1.147865   \n",
       "3              0.165581                 0.094024      -0.747158   \n",
       "4              5.236414                 9.439378      -0.596759   \n",
       "\n",
       "   ELONGATEDNESS  PR.AXIS_RECTANGULARITY  MAX.LENGTH_RECTANGULARITY  \\\n",
       "0       0.136489               -0.224811                   0.757884   \n",
       "1       0.520535               -0.610593                  -0.344374   \n",
       "2      -1.143665                0.932534                   0.688993   \n",
       "3       0.648551               -0.610593                  -0.344374   \n",
       "4       0.520535               -0.610593                  -0.275483   \n",
       "\n",
       "   SCALED_VARIANCE_MAJOR  SCALED_VARIANCE_MINOR  SCALED_RADIUS_OF_GYRATION  \\\n",
       "0              -0.402146              -0.344731                   0.285643   \n",
       "1              -0.593260              -0.622048                  -0.513214   \n",
       "2               1.094916               1.104113                   1.391753   \n",
       "3              -0.911784              -0.740899                  -1.465698   \n",
       "4               1.668259              -0.650346                   0.408545   \n",
       "\n",
       "   SKEWNESS_ABOUT_MAJOR  SKEWNESS_ABOUT_MINOR  KURTOSIS_ABOUT_MAJOR  \\\n",
       "0             -0.328861             -0.076666              0.380766   \n",
       "1             -0.061731              0.533295              0.156833   \n",
       "2              0.071835              1.549895             -0.403000   \n",
       "3             -1.263818             -0.076666             -0.291034   \n",
       "4              7.284361              0.533295             -0.179067   \n",
       "\n",
       "   KURTOSIS_ABOUT_MINOR  HOLLOWS_RATIO Class  Bias  \n",
       "0             -0.313537       0.183849   van     1  \n",
       "1              0.010931       0.452709   van     1  \n",
       "2             -0.151303       0.049418  saab     1  \n",
       "3              1.633267       1.528152   van     1  \n",
       "4             -1.449172      -1.698176   bus     1  "
      ]
     },
     "execution_count": 8,
     "metadata": {},
     "output_type": "execute_result"
    }
   ],
   "source": [
    "# Normalization, for numerical stability\n",
    "for c in df.columns:\n",
    "    if c != 'Class':\n",
    "        df[c] = (df[c] - df[c].mean())/df[c].std()\n",
    "\n",
    "# Adding column for bias\n",
    "df['Bias'] = 1\n",
    "df.head()"
   ]
  },
  {
   "cell_type": "code",
   "execution_count": 9,
   "metadata": {},
   "outputs": [],
   "source": [
    "# Spliting label and features\n",
    "y = df['Class'].values\n",
    "X = df.drop(columns=['Class']).values\n",
    "\n",
    "# Encoding: van=0, saab=1, bus=2, opel=3\n",
    "names = ['van', 'saab', 'bus', 'opel']\n",
    "y_encoded = np.zeros(y.shape)\n",
    "y_encoded += 0 * (y == 'van').astype(int)\n",
    "y_encoded += 1 * (y == 'saab').astype(int)\n",
    "y_encoded += 2 * (y == 'bus').astype(int)\n",
    "y_encoded += 3 * (y == 'opel').astype(int)\n",
    "\n",
    "# Spliting dataset into training and testing\n",
    "train_test_split = 0.8\n",
    "split = int(y.size * train_test_split)\n",
    "\n",
    "y_train = y[:split]\n",
    "X_train = X[:split]\n",
    "y_enc_train = y_encoded[:split]\n",
    "\n",
    "y_test = y[split:]\n",
    "X_test = X[split:]\n",
    "y_enc_test = y_encoded[split:]"
   ]
  },
  {
   "cell_type": "code",
   "execution_count": 10,
   "metadata": {},
   "outputs": [
    {
     "name": "stdout",
     "output_type": "stream",
     "text": [
      "Dados de teste:\n",
      "Número de observações de bus: 173\n",
      "Número de observações de opel: 175\n",
      "Número de observações de saab: 169\n",
      "Número de observações de van: 159\n",
      "\n",
      "Dados de teste:\n",
      "Número de observações de bus: 45\n",
      "Número de observações de opel: 37\n",
      "Número de observações de saab: 48\n",
      "Número de observações de van: 40\n"
     ]
    }
   ],
   "source": [
    "print('Dados de teste:')\n",
    "label, count = np.unique(y_train, return_counts=True)\n",
    "for i, l in enumerate(label):\n",
    "    print(\"Número de observações de {}: {}\".format(l, count[i]))\n",
    "print(\"\")\n",
    "print('Dados de teste:')\n",
    "label, count = np.unique(y_test, return_counts=True)\n",
    "for i, l in enumerate(label):\n",
    "    print(\"Número de observações de {}: {}\".format(l, count[i]))"
   ]
  },
  {
   "cell_type": "markdown",
   "metadata": {},
   "source": [
    "#### Balanceamento de classes\n",
    "Observa-se acima que as classes dentro dos conjuntos de teste e treino estão suficientemente balanceadas, i.e. não há grandes disparidades entre o número de ocorrências de cada classe, tanto no conjunto de treino quanto no conjunto de testes."
   ]
  },
  {
   "cell_type": "markdown",
   "metadata": {},
   "source": [
    "# Treinando a regressão logística multiclasse\n",
    "\n",
    "Para se obter um classificador multiclasses baseado em regressão logística, escolheu-se o método de *one-vs-one*. Para isso, seis classificadores binários foram treinados. Como regra de desambiguação, implementou-se um sistema de votação, onde cada classificador realiza um voto e a classe com mais votos é a predição final. Finalmente, se houverem impates na votação, o critério final é escolher a classe de menor índice como valor predito; importante citar que existem formas de desambiguação mais elaboradas, mas que não serão exploradas neste trabalho.\n",
    "\n",
    "A regressão logística é um exemplo de algoritmo de aprendizado de máquina que não possui fórmula analítica. Para obter os parâmetros do modelo, utilizou-se o algoritmo de otimização Gradiente Descendente (determinístico). O passo de otimização (alpha) foi de 1, e o critério de parada foi até que a norma euclidiana do vetor fosse menor que 10E-4, ou até o limite de 100.000 iterações."
   ]
  },
  {
   "cell_type": "code",
   "execution_count": 11,
   "metadata": {},
   "outputs": [],
   "source": [
    "def train_binary_class(X, y, class1, class2):\n",
    "    # trains a binary classifier which predicts true for class1 and false for class2\n",
    "    X_f = X[(y == class1) | (y == class2)]\n",
    "    y_fs = y[(y == class1) | (y == class2)]\n",
    "    y_f = (y_fs == class1)\n",
    "\n",
    "    lr = LogReg()\n",
    "    lr.fit(X_f, y_f, alpha=1, niter=100000, epsilon=0.0001)\n",
    "    return lr\n",
    "\n",
    "lr_van_saab = train_binary_class(X_train, y_train, 'van', 'saab')\n",
    "lr_van_bus = train_binary_class(X_train, y_train, 'van', 'bus')\n",
    "lr_van_opel = train_binary_class(X_train, y_train, 'van', 'opel')\n",
    "lr_saab_bus = train_binary_class(X_train, y_train, 'saab', 'bus')\n",
    "lr_saab_opel = train_binary_class(X_train, y_train, 'saab', 'opel')\n",
    "lr_bus_opel = train_binary_class(X_train, y_train, 'bus', 'opel')"
   ]
  },
  {
   "cell_type": "code",
   "execution_count": 12,
   "metadata": {},
   "outputs": [],
   "source": [
    "# Encoding: van=0, saab=1, bus=2, opel=3\n",
    "y_reglog_pred = np.zeros(X_test.shape[0])\n",
    "\n",
    "for i, line in enumerate(X_test):\n",
    "    votes = np.zeros(4)\n",
    "    \n",
    "    if lr_van_saab.pred(line): votes[0] += 1\n",
    "    else: votes[1] += 1\n",
    "    \n",
    "    if lr_van_bus.pred(line): votes[0] += 1\n",
    "    else: votes[2] += 1\n",
    "    \n",
    "    if lr_van_opel.pred(line): votes[0] += 1\n",
    "    else: votes[3] += 1\n",
    "    \n",
    "    if lr_saab_bus.pred(line): votes[1] += 1\n",
    "    else: votes[2] += 1\n",
    "        \n",
    "    if lr_saab_opel.pred(line): votes[1] += 1\n",
    "    else: votes[3] += 1\n",
    "        \n",
    "    if lr_bus_opel.pred(line): votes[2] += 1\n",
    "    else: votes[3] += 1\n",
    "        \n",
    "    y_reglog_pred[i] = votes.argmax()"
   ]
  },
  {
   "cell_type": "code",
   "execution_count": 13,
   "metadata": {},
   "outputs": [
    {
     "name": "stdout",
     "output_type": "stream",
     "text": [
      "Para o algoritmo Regressão Logística, métrica F1-Score: 0.826658131491764\n"
     ]
    }
   ],
   "source": [
    "f1_reglog = f1score(y_enc_test, y_reglog_pred)\n",
    "print(\"Para o algoritmo Regressão Logística, métrica F1-Score: {}\".format(f1_reglog))"
   ]
  },
  {
   "cell_type": "code",
   "execution_count": 14,
   "metadata": {},
   "outputs": [
    {
     "data": {
      "image/png": "[encoded data removed]",
      "text/plain": [
       "<Figure size 648x432 with 2 Axes>"
      ]
     },
     "metadata": {
      "needs_background": "light"
     },
     "output_type": "display_data"
    }
   ],
   "source": [
    "cm = confmatrix(y_enc_test, y_reglog_pred)\n",
    "sns.heatmap(cm, annot=True, cmap=\"YlGnBu\", xticklabels=names, yticklabels=names)\n",
    "plt.ylabel(\"Classe Real\")\n",
    "plt.xlabel(\"Classe Predita\")\n",
    "plt.title(\"Matriz de confusão utilizando-se a regressão logística\");"
   ]
  },
  {
   "cell_type": "markdown",
   "metadata": {},
   "source": [
    "#### Resultados\n",
    "Acima temos os resultados para o algoritmo de regressão logística. As métricas utilizadas para avaliar o algoritmo foram a matriz de confusão e o F1-Score (que foi utilizado como metrica global).\n",
    "\n",
    "O F1-Score foi implementado utilizado-se as métricas precisão e recall. As métricas precisão e recall, por sua vez, foram implementadas usando médias macro, o que trata o desempenho individual para cada classe de forma equilibrada (i.e. a métrica é influenciada igualmente em relação à representativadade de cada classe).\n",
    "A F1-Score é uma métrica que varia de 0 até 1. Para a regressão logística, obteve-se F1-Score igual a 0.8267, o que pode ser considerado um bom desempenho para o primeiro modelo treinado. \n",
    "\n",
    "#### Conclusão\n",
    "A matriz de confusão é uma métrica que oferece informações interessantes a respeito do desempenho do algoritmo para as diferentes classes. A partir do resultado, temos que a principal deficiência do algoritmo foi na distinção das classes *saab* e *opel*. Temos que 15 observações do veículo *opel* foram erroneamente classificadas como *saab*, e 8 observações do veículo *saab* foram classificados como *opel*. Em relação as outras comparações, o algoritmo apresentou bom desempenho."
   ]
  },
  {
   "cell_type": "markdown",
   "metadata": {},
   "source": [
    "# Modelo de classificaçao k-NN\n",
    "Nesta seção, obervou-se a performance do algoritmo k-NN para o mesmo conjunto de dados. Para a construção do modelo k-NN, a métrica de distância utilizada foi a euclidiana. Além disso, dentre os k vizinhos mais próximos, a todos os votos foram atribuídos o mesmo peso (i.e. utilizou-se pesos uniformes para as *k* observações). Uma alternativa a essa implementação seria, e.g., atribuir pesos proporcionais à distância da *k*-ésima observação ao seu voto. Além disso, é necessário decidir o valor de *k*, que é um hiperparâmetro do modelo."
   ]
  },
  {
   "cell_type": "code",
   "execution_count": 15,
   "metadata": {},
   "outputs": [
    {
     "name": "stdout",
     "output_type": "stream",
     "text": [
      "Para k = 1, métrica F1-Score: 0.6890392332426578\n",
      "Para k = 2, métrica F1-Score: 0.7156935295006981\n",
      "Para k = 3, métrica F1-Score: 0.7221756313124398\n",
      "Para k = 4, métrica F1-Score: 0.7433234402110819\n",
      "Para k = 5, métrica F1-Score: 0.7409368315320127\n",
      "Para k = 6, métrica F1-Score: 0.7417772840685404\n",
      "Para k = 7, métrica F1-Score: 0.7404782123684327\n",
      "Para k = 8, métrica F1-Score: 0.7192737994931858\n",
      "Para k = 9, métrica F1-Score: 0.7719475144261451\n",
      "Para k = 10, métrica F1-Score: 0.77627811619244\n",
      "Para k = 11, métrica F1-Score: 0.7751302114517039\n",
      "Para k = 12, métrica F1-Score: 0.7609302809052725\n",
      "Para k = 13, métrica F1-Score: 0.7638541995310497\n",
      "Para k = 14, métrica F1-Score: 0.7467028469414422\n",
      "Para k = 15, métrica F1-Score: 0.7296485401400684\n",
      "Para k = 16, métrica F1-Score: 0.7296616178975545\n",
      "Para k = 17, métrica F1-Score: 0.7576256213979832\n",
      "Para k = 18, métrica F1-Score: 0.7543609702216031\n",
      "Para k = 19, métrica F1-Score: 0.7717993602203472\n",
      "Para k = 20, métrica F1-Score: 0.774028446408623\n",
      "Para k = 21, métrica F1-Score: 0.7356188462916334\n",
      "Para k = 22, métrica F1-Score: 0.7436559877745509\n",
      "Para k = 23, métrica F1-Score: 0.7436991857250629\n",
      "Para k = 24, métrica F1-Score: 0.7386386999753438\n",
      "Para k = 25, métrica F1-Score: 0.710928221392765\n",
      "Para k = 26, métrica F1-Score: 0.7430808107007677\n",
      "Para k = 27, métrica F1-Score: 0.7195953937821814\n",
      "Para k = 28, métrica F1-Score: 0.7240322334177047\n",
      "Para k = 29, métrica F1-Score: 0.7111240973508666\n"
     ]
    }
   ],
   "source": [
    "def assess_knn_perf(max_k):\n",
    "    for k in range(1, max_k):\n",
    "        knn = KnnClass()\n",
    "        knn.fit(X_train, y_enc_train, k)\n",
    "        y_knn_pred = knn.predict(X_test)\n",
    "        f1 = f1score(y_enc_test, y_knn_pred)\n",
    "        print(\"Para k = {}, métrica F1-Score: {}\".format(k, f1))\n",
    "assess_knn_perf(30)"
   ]
  },
  {
   "cell_type": "markdown",
   "metadata": {},
   "source": [
    "#### Escolhendo o hyperparâmetro k\n",
    "Acima temos o desempenho do k-NN para diferentes valores de k. Dois valores escolhidos como de interesse são *k* igual a 10 e 20, pois ambos apresentaram altos valores de F1-Score. Iremos explorar mais a fundo o desempenho do modelo para esses dois valores de k."
   ]
  },
  {
   "cell_type": "code",
   "execution_count": 16,
   "metadata": {},
   "outputs": [],
   "source": [
    "def perf_confmatrix_knn(k):\n",
    "    knn = KnnClass()\n",
    "    knn.fit(X_train, y_enc_train, k)\n",
    "    y_knn_pred = knn.predict(X_test)\n",
    "    f1 = f1score(y_enc_test, y_knn_pred)\n",
    "    print(\"Para k = {}, métrica F1-Score: {}\".format(k, f1))\n",
    "    \n",
    "    cm = confmatrix(y_enc_test, y_knn_pred)\n",
    "    sns.heatmap(cm, annot=True, cmap=\"YlGnBu\", xticklabels=names, yticklabels=names)\n",
    "    plt.ylabel(\"Classe Real\")\n",
    "    plt.xlabel(\"Classe Predita\")\n",
    "    plt.title(\"Matriz de Confusão do k-NN para k igual a \" + str(k))"
   ]
  },
  {
   "cell_type": "code",
   "execution_count": 17,
   "metadata": {},
   "outputs": [
    {
     "data": {
      "text/plain": [
       "array([[39.,  0.,  0.,  1.],\n",
       "       [ 1., 39.,  0.,  8.],\n",
       "       [ 0.,  2., 42.,  1.],\n",
       "       [ 1., 15.,  0., 21.]])"
      ]
     },
     "execution_count": 17,
     "metadata": {},
     "output_type": "execute_result"
    }
   ],
   "source": [
    "confmatrix(y_enc_test, y_reglog_pred)"
   ]
  },
  {
   "cell_type": "code",
   "execution_count": 18,
   "metadata": {},
   "outputs": [
    {
     "name": "stdout",
     "output_type": "stream",
     "text": [
      "Para k = 10, métrica F1-Score: 0.77627811619244\n"
     ]
    },
    {
     "data": {
      "image/png": "[encoded data removed]",
      "text/plain": [
       "<Figure size 648x432 with 2 Axes>"
      ]
     },
     "metadata": {
      "needs_background": "light"
     },
     "output_type": "display_data"
    }
   ],
   "source": [
    "perf_confmatrix_knn(10)"
   ]
  },
  {
   "cell_type": "code",
   "execution_count": 19,
   "metadata": {},
   "outputs": [
    {
     "name": "stdout",
     "output_type": "stream",
     "text": [
      "Para k = 20, métrica F1-Score: 0.774028446408623\n"
     ]
    },
    {
     "data": {
      "image/png": "[encoded data removed]",
      "text/plain": [
       "<Figure size 648x432 with 2 Axes>"
      ]
     },
     "metadata": {
      "needs_background": "light"
     },
     "output_type": "display_data"
    }
   ],
   "source": [
    "perf_confmatrix_knn(20)"
   ]
  },
  {
   "cell_type": "markdown",
   "metadata": {},
   "source": [
    "As matrizes de confusão dos modelos com *k=10* e *k=20* foram bastante semelhantes. Da mesma forma que na regressão logística, as classes *opel* e *saab* apresentam o pior desempenho, quando comparadas às outras duplas de classes:\n",
    "- Para k=10: temos que 15 observações do veículo *opel* foram erroneamente classificadas como *saab*, e 11 observações do veículo *saab* foram classificados como *opel*.\n",
    "- Para k=20: temos que 12 observações do veículo *opel* foram erroneamente classificadas como *saab*, e 8 observações do veículo *saab* foram classificados como *opel*.\n",
    "Para o restante das combinações dois-a-dois, o desempenho foi superior.\n",
    "\n",
    "Conclui-se que os valores de hiperparâmetros selecionados apresentaram desempenho semelhantes.\n",
    "\n",
    "Entretanto, ao comparar o desempenho do k-NN e da regressão logística, temos que o desempenho da desta é superior em relação ao F1-Score: 0.83 para a regressão logística contra 0.78 para o melhor k-NN obtido. Por exemplo, o k-NN apresentou erros consideráveis ao: classificar 6 observações do veículo *saab* como *van* e classificar 5 veículos *opel* como *van*; o algoritmo de regressão logística apresentou desempenho superior em ambas as situações.\n",
    "\n",
    "Concluímos que, para este dataset, a regressão logística obteve um desempenho superior ao k-NN, em relação à métrica global escolhida."
   ]
  }
 ],
 "metadata": {
  "kernelspec": {
   "display_name": "Python 3",
   "language": "python",
   "name": "python3"
  },
  "language_info": {
   "codemirror_mode": {
    "name": "ipython",
    "version": 3
   },
   "file_extension": ".py",
   "mimetype": "text/x-python",
   "name": "python",
   "nbconvert_exporter": "python",
   "pygments_lexer": "ipython3",
   "version": "3.7.3"
  }
 },
 "nbformat": 4,
 "nbformat_minor": 2
}
